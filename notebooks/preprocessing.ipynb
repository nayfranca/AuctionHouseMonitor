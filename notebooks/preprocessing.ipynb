{
 "cells": [
  {
   "cell_type": "code",
   "execution_count": null,
   "metadata": {},
   "outputs": [],
   "source": [
    "import os\n",
    "import sys\n",
    "import requests\n",
    "from bs4 import BeautifulSoup\n",
    "\n",
    "directory_path = os.getcwd()\n",
    "\n",
    "relevant_part = directory_path.split(\"scripts\")[0]\n",
    "\n",
    "# Use os.path.dirname() para subir um nível no diretório\n",
    "parent_directory = os.path.dirname(relevant_part.rstrip(os.sep))\n"
   ]
  },
  {
   "cell_type": "code",
   "execution_count": null,
   "metadata": {},
   "outputs": [],
   "source": [
    "\n",
    "sys.path.insert(0, parent_directory)\n",
    "\n",
    "from scripts.load import Loader\n",
    "\n",
    "import os\n",
    "os.environ[\"GOOGLE_APPLICATION_CREDENTIALS\"] = \"/Users/nayanegomes/AuctionHouseMonitor/auction-house-monitor-85951197a9c3.json\""
   ]
  },
  {
   "cell_type": "code",
   "execution_count": null,
   "metadata": {},
   "outputs": [],
   "source": [
    "import pandas as pd\n",
    "\n",
    "# Configurações para mostrar mais linhas\n",
    "pd.set_option('display.max_rows', None)  # Mostra todas as linhas\n",
    "\n",
    "# Configurações para mostrar mais colunas\n",
    "pd.set_option('display.max_columns', None)  # Mostra todas as colunas\n",
    "\n",
    "# Opcionalmente, ajustar a largura do display para evitar quebra de linha nas células\n",
    "pd.set_option('display.width', 1000)\n",
    "\n",
    "# Ajustar a precisão da exibição para números de ponto flutuante, se necessário\n",
    "pd.set_option('display.float_format', '{:.2f}'.format)\n"
   ]
  },
  {
   "cell_type": "code",
   "execution_count": null,
   "metadata": {},
   "outputs": [],
   "source": [
    "loader = Loader(config_path='../config/config.yaml')"
   ]
  },
  {
   "cell_type": "code",
   "execution_count": null,
   "metadata": {},
   "outputs": [],
   "source": [
    "\n",
    "# Exemplo de uso do novo método\n",
    "df = loader.read_csv_from_gcp('data/integrated/Lista_imoveis_MG.csv')"
   ]
  },
  {
   "cell_type": "code",
   "execution_count": null,
   "metadata": {},
   "outputs": [],
   "source": [
    "df = df.head(1)"
   ]
  },
  {
   "cell_type": "code",
   "execution_count": null,
   "metadata": {},
   "outputs": [],
   "source": [
    "for index, row in df.iterrows():\n",
    "    url = row['Link de acesso']\n",
    "\n",
    "    # Adicionando cabeçalhos HTTP para simular um navegador\n",
    "    headers = {\n",
    "    'User-Agent': 'Mozilla/5.0 (Windows NT 10.0; Win64; x64) AppleWebKit/537.36 (KHTML, like Gecko) Chrome/58.0.3029.110 Safari/537.3'\n",
    "}\n",
    "\n",
    "    \n",
    "    # Fazendo a solicitação HTTP para obter o conteúdo do site\n",
    "    response = requests.get(url, headers=headers)\n",
    "    \n",
    "    # Verificando se a solicitação foi bem-sucedida\n",
    "    if response.status_code == 200:\n",
    "        # Parsing do conteúdo HTML\n",
    "        soup = BeautifulSoup(response.content, 'html.parser')\n",
    "        \n",
    "        # Buscando todos os elementos com a classe 'related-box'\n",
    "        related_boxes = soup.find_all('div', class_='related-box')\n",
    "        \n",
    "        if related_boxes:\n",
    "            # Iterando sobre os elementos encontrados e armazenando o texto que vem após \"Descricao\"\n",
    "            descricao_encontrada = False\n",
    "            for i, box in enumerate(related_boxes, start=1):\n",
    "                texto = box.get_text(separator='\\n', strip=True)\n",
    "                \n",
    "                if 'Descrição:' in texto:\n",
    "                    descricao_encontrada = True\n",
    "                    # Pegando o texto após \"Descricao\"\n",
    "                    descricao = texto.split('Descrição:', 1)[1].strip()\n",
    "                    df.at[index, 'Descricao'] = descricao\n",
    "                    break  # Saindo do loop após encontrar a primeira ocorrência\n",
    "            if not descricao_encontrada:\n",
    "                print(f'Nenhuma \"Descrição:\" encontrada nas divs com a classe \"related-box\" para o link {url}')\n",
    "        else:\n",
    "            print(f'Nenhuma div com a classe \"related-box\" foi encontrada para o link {url}')\n",
    "    else:\n",
    "        print(f'Erro ao acessar o site: {response.status_code} para o link {url}')\n"
   ]
  },
  {
   "cell_type": "code",
   "execution_count": null,
   "metadata": {},
   "outputs": [],
   "source": []
  }
 ],
 "metadata": {
  "kernelspec": {
   "display_name": "venv",
   "language": "python",
   "name": "python3"
  },
  "language_info": {
   "codemirror_mode": {
    "name": "ipython",
    "version": 3
   },
   "file_extension": ".py",
   "mimetype": "text/x-python",
   "name": "python",
   "nbconvert_exporter": "python",
   "pygments_lexer": "ipython3",
   "version": "3.9.6"
  }
 },
 "nbformat": 4,
 "nbformat_minor": 2
}
